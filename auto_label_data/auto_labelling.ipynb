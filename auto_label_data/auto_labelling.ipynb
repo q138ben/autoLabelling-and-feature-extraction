{
 "cells": [
  {
   "cell_type": "code",
   "execution_count": 2,
   "metadata": {},
   "outputs": [],
   "source": [
    "import pandas as pd\n"
   ]
  },
  {
   "cell_type": "code",
   "execution_count": 3,
   "metadata": {},
   "outputs": [],
   "source": [
    "df_1 = pd.read_csv('action_1_signal_raw.data')"
   ]
  },
  {
   "cell_type": "code",
   "execution_count": 26,
   "metadata": {},
   "outputs": [
    {
     "data": {
      "text/plain": [
       "'Time (seconds)'"
      ]
     },
     "execution_count": 26,
     "metadata": {},
     "output_type": "execute_result"
    }
   ],
   "source": [
    "df_1.columns[0]"
   ]
  },
  {
   "cell_type": "code",
   "execution_count": 5,
   "metadata": {},
   "outputs": [],
   "source": [
    "df_1_label = pd.read_csv('action_1_labels.label')"
   ]
  },
  {
   "cell_type": "code",
   "execution_count": 6,
   "metadata": {},
   "outputs": [
    {
     "data": {
      "text/html": [
       "<div>\n",
       "<style scoped>\n",
       "    .dataframe tbody tr th:only-of-type {\n",
       "        vertical-align: middle;\n",
       "    }\n",
       "\n",
       "    .dataframe tbody tr th {\n",
       "        vertical-align: top;\n",
       "    }\n",
       "\n",
       "    .dataframe thead th {\n",
       "        text-align: right;\n",
       "    }\n",
       "</style>\n",
       "<table border=\"1\" class=\"dataframe\">\n",
       "  <thead>\n",
       "    <tr style=\"text-align: right;\">\n",
       "      <th></th>\n",
       "      <th>Time(Seconds)</th>\n",
       "      <th>Length(Seconds)</th>\n",
       "      <th>Label(string)</th>\n",
       "    </tr>\n",
       "  </thead>\n",
       "  <tbody>\n",
       "    <tr>\n",
       "      <th>0</th>\n",
       "      <td>2.986523</td>\n",
       "      <td>0.401533</td>\n",
       "      <td>action_1</td>\n",
       "    </tr>\n",
       "    <tr>\n",
       "      <th>1</th>\n",
       "      <td>4.245780</td>\n",
       "      <td>0.449030</td>\n",
       "      <td>action_1</td>\n",
       "    </tr>\n",
       "    <tr>\n",
       "      <th>2</th>\n",
       "      <td>5.575621</td>\n",
       "      <td>0.399287</td>\n",
       "      <td>action_1</td>\n",
       "    </tr>\n",
       "    <tr>\n",
       "      <th>3</th>\n",
       "      <td>6.805614</td>\n",
       "      <td>0.376089</td>\n",
       "      <td>action_1</td>\n",
       "    </tr>\n",
       "    <tr>\n",
       "      <th>4</th>\n",
       "      <td>7.936644</td>\n",
       "      <td>0.347965</td>\n",
       "      <td>action_1</td>\n",
       "    </tr>\n",
       "  </tbody>\n",
       "</table>\n",
       "</div>"
      ],
      "text/plain": [
       "   Time(Seconds)  Length(Seconds) Label(string)\n",
       "0       2.986523         0.401533      action_1\n",
       "1       4.245780         0.449030      action_1\n",
       "2       5.575621         0.399287      action_1\n",
       "3       6.805614         0.376089      action_1\n",
       "4       7.936644         0.347965      action_1"
      ]
     },
     "execution_count": 6,
     "metadata": {},
     "output_type": "execute_result"
    }
   ],
   "source": [
    "df_1_label.head()"
   ]
  },
  {
   "cell_type": "code",
   "execution_count": 9,
   "metadata": {},
   "outputs": [
    {
     "data": {
      "text/plain": [
       "0.401532567297346"
      ]
     },
     "execution_count": 9,
     "metadata": {},
     "output_type": "execute_result"
    }
   ],
   "source": [
    "df_1_label.loc[0][1]"
   ]
  },
  {
   "cell_type": "code",
   "execution_count": 16,
   "metadata": {},
   "outputs": [
    {
     "data": {
      "text/plain": [
       "0      2.986523\n",
       "1      4.245780\n",
       "2      5.575621\n",
       "3      6.805614\n",
       "4      7.936644\n",
       "5     11.898954\n",
       "6     13.258043\n",
       "7     14.503102\n",
       "8     15.737963\n",
       "9     17.052243\n",
       "10    22.214186\n",
       "11    23.731187\n",
       "12    25.136320\n",
       "13    26.963891\n",
       "14    28.627369\n",
       "Name: Time(Seconds), dtype: float64"
      ]
     },
     "execution_count": 16,
     "metadata": {},
     "output_type": "execute_result"
    }
   ],
   "source": [
    "df_1_label['Time(Seconds)']"
   ]
  },
  {
   "cell_type": "code",
   "execution_count": 25,
   "metadata": {},
   "outputs": [
    {
     "ename": "KeyError",
     "evalue": "'Time(Seconds)'",
     "output_type": "error",
     "traceback": [
      "\u001b[1;31m---------------------------------------------------------------------------\u001b[0m",
      "\u001b[1;31mKeyError\u001b[0m                                  Traceback (most recent call last)",
      "\u001b[1;32mE:\\miniconda3_64\\envs\\osim_onn\\lib\\site-packages\\pandas\\core\\indexes\\base.py\u001b[0m in \u001b[0;36mget_loc\u001b[1;34m(self, key, method, tolerance)\u001b[0m\n\u001b[0;32m   2888\u001b[0m             \u001b[1;32mtry\u001b[0m\u001b[1;33m:\u001b[0m\u001b[1;33m\u001b[0m\u001b[0m\n\u001b[1;32m-> 2889\u001b[1;33m                 \u001b[1;32mreturn\u001b[0m \u001b[0mself\u001b[0m\u001b[1;33m.\u001b[0m\u001b[0m_engine\u001b[0m\u001b[1;33m.\u001b[0m\u001b[0mget_loc\u001b[0m\u001b[1;33m(\u001b[0m\u001b[0mcasted_key\u001b[0m\u001b[1;33m)\u001b[0m\u001b[1;33m\u001b[0m\u001b[0m\n\u001b[0m\u001b[0;32m   2890\u001b[0m             \u001b[1;32mexcept\u001b[0m \u001b[0mKeyError\u001b[0m \u001b[1;32mas\u001b[0m \u001b[0merr\u001b[0m\u001b[1;33m:\u001b[0m\u001b[1;33m\u001b[0m\u001b[0m\n",
      "\u001b[1;32mpandas\\_libs\\index.pyx\u001b[0m in \u001b[0;36mpandas._libs.index.IndexEngine.get_loc\u001b[1;34m()\u001b[0m\n",
      "\u001b[1;32mpandas\\_libs\\index.pyx\u001b[0m in \u001b[0;36mpandas._libs.index.IndexEngine.get_loc\u001b[1;34m()\u001b[0m\n",
      "\u001b[1;32mpandas\\_libs\\hashtable_class_helper.pxi\u001b[0m in \u001b[0;36mpandas._libs.hashtable.PyObjectHashTable.get_item\u001b[1;34m()\u001b[0m\n",
      "\u001b[1;32mpandas\\_libs\\hashtable_class_helper.pxi\u001b[0m in \u001b[0;36mpandas._libs.hashtable.PyObjectHashTable.get_item\u001b[1;34m()\u001b[0m\n",
      "\u001b[1;31mKeyError\u001b[0m: 'Time(Seconds)'",
      "\nThe above exception was the direct cause of the following exception:\n",
      "\u001b[1;31mKeyError\u001b[0m                                  Traceback (most recent call last)",
      "\u001b[1;32m<ipython-input-25-87f3ec0cfb35>\u001b[0m in \u001b[0;36m<module>\u001b[1;34m\u001b[0m\n\u001b[1;32m----> 1\u001b[1;33m \u001b[1;32mfor\u001b[0m \u001b[0mi\u001b[0m\u001b[1;33m,\u001b[0m \u001b[0mlabel\u001b[0m \u001b[1;32min\u001b[0m \u001b[0menumerate\u001b[0m\u001b[1;33m(\u001b[0m\u001b[0mdf_1\u001b[0m\u001b[1;33m[\u001b[0m\u001b[1;34m'Time(Seconds)'\u001b[0m\u001b[1;33m]\u001b[0m\u001b[1;33m)\u001b[0m\u001b[1;33m:\u001b[0m\u001b[1;33m\u001b[0m\u001b[0m\n\u001b[0m\u001b[0;32m      2\u001b[0m     \u001b[0mprint\u001b[0m \u001b[1;33m(\u001b[0m\u001b[0mlabel\u001b[0m\u001b[1;33m)\u001b[0m\u001b[1;33m\u001b[0m\u001b[0m\n",
      "\u001b[1;32mE:\\miniconda3_64\\envs\\osim_onn\\lib\\site-packages\\pandas\\core\\frame.py\u001b[0m in \u001b[0;36m__getitem__\u001b[1;34m(self, key)\u001b[0m\n\u001b[0;32m   2900\u001b[0m             \u001b[1;32mif\u001b[0m \u001b[0mself\u001b[0m\u001b[1;33m.\u001b[0m\u001b[0mcolumns\u001b[0m\u001b[1;33m.\u001b[0m\u001b[0mnlevels\u001b[0m \u001b[1;33m>\u001b[0m \u001b[1;36m1\u001b[0m\u001b[1;33m:\u001b[0m\u001b[1;33m\u001b[0m\u001b[0m\n\u001b[0;32m   2901\u001b[0m                 \u001b[1;32mreturn\u001b[0m \u001b[0mself\u001b[0m\u001b[1;33m.\u001b[0m\u001b[0m_getitem_multilevel\u001b[0m\u001b[1;33m(\u001b[0m\u001b[0mkey\u001b[0m\u001b[1;33m)\u001b[0m\u001b[1;33m\u001b[0m\u001b[0m\n\u001b[1;32m-> 2902\u001b[1;33m             \u001b[0mindexer\u001b[0m \u001b[1;33m=\u001b[0m \u001b[0mself\u001b[0m\u001b[1;33m.\u001b[0m\u001b[0mcolumns\u001b[0m\u001b[1;33m.\u001b[0m\u001b[0mget_loc\u001b[0m\u001b[1;33m(\u001b[0m\u001b[0mkey\u001b[0m\u001b[1;33m)\u001b[0m\u001b[1;33m\u001b[0m\u001b[0m\n\u001b[0m\u001b[0;32m   2903\u001b[0m             \u001b[1;32mif\u001b[0m \u001b[0mis_integer\u001b[0m\u001b[1;33m(\u001b[0m\u001b[0mindexer\u001b[0m\u001b[1;33m)\u001b[0m\u001b[1;33m:\u001b[0m\u001b[1;33m\u001b[0m\u001b[0m\n\u001b[0;32m   2904\u001b[0m                 \u001b[0mindexer\u001b[0m \u001b[1;33m=\u001b[0m \u001b[1;33m[\u001b[0m\u001b[0mindexer\u001b[0m\u001b[1;33m]\u001b[0m\u001b[1;33m\u001b[0m\u001b[0m\n",
      "\u001b[1;32mE:\\miniconda3_64\\envs\\osim_onn\\lib\\site-packages\\pandas\\core\\indexes\\base.py\u001b[0m in \u001b[0;36mget_loc\u001b[1;34m(self, key, method, tolerance)\u001b[0m\n\u001b[0;32m   2889\u001b[0m                 \u001b[1;32mreturn\u001b[0m \u001b[0mself\u001b[0m\u001b[1;33m.\u001b[0m\u001b[0m_engine\u001b[0m\u001b[1;33m.\u001b[0m\u001b[0mget_loc\u001b[0m\u001b[1;33m(\u001b[0m\u001b[0mcasted_key\u001b[0m\u001b[1;33m)\u001b[0m\u001b[1;33m\u001b[0m\u001b[0m\n\u001b[0;32m   2890\u001b[0m             \u001b[1;32mexcept\u001b[0m \u001b[0mKeyError\u001b[0m \u001b[1;32mas\u001b[0m \u001b[0merr\u001b[0m\u001b[1;33m:\u001b[0m\u001b[1;33m\u001b[0m\u001b[0m\n\u001b[1;32m-> 2891\u001b[1;33m                 \u001b[1;32mraise\u001b[0m \u001b[0mKeyError\u001b[0m\u001b[1;33m(\u001b[0m\u001b[0mkey\u001b[0m\u001b[1;33m)\u001b[0m \u001b[1;32mfrom\u001b[0m \u001b[0merr\u001b[0m\u001b[1;33m\u001b[0m\u001b[0m\n\u001b[0m\u001b[0;32m   2892\u001b[0m \u001b[1;33m\u001b[0m\u001b[0m\n\u001b[0;32m   2893\u001b[0m         \u001b[1;32mif\u001b[0m \u001b[0mtolerance\u001b[0m \u001b[1;32mis\u001b[0m \u001b[1;32mnot\u001b[0m \u001b[1;32mNone\u001b[0m\u001b[1;33m:\u001b[0m\u001b[1;33m\u001b[0m\u001b[0m\n",
      "\u001b[1;31mKeyError\u001b[0m: 'Time(Seconds)'"
     ]
    }
   ],
   "source": [
    "for i, label in enumerate(df_1['Time(Seconds)']):\n",
    "    print (label)"
   ]
  },
  {
   "cell_type": "code",
   "execution_count": 11,
   "metadata": {},
   "outputs": [
    {
     "data": {
      "text/plain": [
       "15"
      ]
     },
     "execution_count": 11,
     "metadata": {},
     "output_type": "execute_result"
    }
   ],
   "source": [
    "len(df_1_label)"
   ]
  },
  {
   "cell_type": "code",
   "execution_count": 14,
   "metadata": {},
   "outputs": [
    {
     "data": {
      "text/plain": [
       "'Time(Seconds)'"
      ]
     },
     "execution_count": 14,
     "metadata": {},
     "output_type": "execute_result"
    }
   ],
   "source": [
    "df_1_label.columns[0]"
   ]
  },
  {
   "cell_type": "code",
   "execution_count": 17,
   "metadata": {},
   "outputs": [],
   "source": [
    "df_1_label['time_stop'] = df_1_label['Time(Seconds)'] + df_1_label['Length(Seconds)']"
   ]
  },
  {
   "cell_type": "code",
   "execution_count": 20,
   "metadata": {},
   "outputs": [],
   "source": [
    "ind = [1,3,4]"
   ]
  },
  {
   "cell_type": "code",
   "execution_count": 21,
   "metadata": {},
   "outputs": [
    {
     "data": {
      "text/html": [
       "<div>\n",
       "<style scoped>\n",
       "    .dataframe tbody tr th:only-of-type {\n",
       "        vertical-align: middle;\n",
       "    }\n",
       "\n",
       "    .dataframe tbody tr th {\n",
       "        vertical-align: top;\n",
       "    }\n",
       "\n",
       "    .dataframe thead th {\n",
       "        text-align: right;\n",
       "    }\n",
       "</style>\n",
       "<table border=\"1\" class=\"dataframe\">\n",
       "  <thead>\n",
       "    <tr style=\"text-align: right;\">\n",
       "      <th></th>\n",
       "      <th>Time(Seconds)</th>\n",
       "      <th>Length(Seconds)</th>\n",
       "      <th>Label(string)</th>\n",
       "      <th>time_stop</th>\n",
       "    </tr>\n",
       "  </thead>\n",
       "  <tbody>\n",
       "    <tr>\n",
       "      <th>1</th>\n",
       "      <td>4.245780</td>\n",
       "      <td>0.449030</td>\n",
       "      <td>action_1</td>\n",
       "      <td>4.694811</td>\n",
       "    </tr>\n",
       "    <tr>\n",
       "      <th>3</th>\n",
       "      <td>6.805614</td>\n",
       "      <td>0.376089</td>\n",
       "      <td>action_1</td>\n",
       "      <td>7.181703</td>\n",
       "    </tr>\n",
       "    <tr>\n",
       "      <th>4</th>\n",
       "      <td>7.936644</td>\n",
       "      <td>0.347965</td>\n",
       "      <td>action_1</td>\n",
       "      <td>8.284609</td>\n",
       "    </tr>\n",
       "  </tbody>\n",
       "</table>\n",
       "</div>"
      ],
      "text/plain": [
       "   Time(Seconds)  Length(Seconds) Label(string)  time_stop\n",
       "1       4.245780         0.449030      action_1   4.694811\n",
       "3       6.805614         0.376089      action_1   7.181703\n",
       "4       7.936644         0.347965      action_1   8.284609"
      ]
     },
     "execution_count": 21,
     "metadata": {},
     "output_type": "execute_result"
    }
   ],
   "source": [
    "df_1_label.loc[ind]"
   ]
  },
  {
   "cell_type": "code",
   "execution_count": 67,
   "metadata": {},
   "outputs": [],
   "source": [
    "i = 0\n",
    "ind_list = []\n",
    "for ind, time in enumerate(df_1[df_1.columns[0]]):\n",
    "    for i in range(len(df_1_label)):\n",
    "        if time > df_1_label['Time(Seconds)'][i] and time < df_1_label['time_stop'][i]:\n",
    "            ind_list.append(ind)\n",
    "            break\n",
    "        "
   ]
  },
  {
   "cell_type": "code",
   "execution_count": 74,
   "metadata": {},
   "outputs": [],
   "source": [
    "df_select = df_1.loc[ind_list]"
   ]
  },
  {
   "cell_type": "code",
   "execution_count": 75,
   "metadata": {},
   "outputs": [
    {
     "data": {
      "text/html": [
       "<div>\n",
       "<style scoped>\n",
       "    .dataframe tbody tr th:only-of-type {\n",
       "        vertical-align: middle;\n",
       "    }\n",
       "\n",
       "    .dataframe tbody tr th {\n",
       "        vertical-align: top;\n",
       "    }\n",
       "\n",
       "    .dataframe thead th {\n",
       "        text-align: right;\n",
       "    }\n",
       "</style>\n",
       "<table border=\"1\" class=\"dataframe\">\n",
       "  <thead>\n",
       "    <tr style=\"text-align: right;\">\n",
       "      <th></th>\n",
       "      <th>Time (seconds)</th>\n",
       "      <th>f0</th>\n",
       "      <th>f1</th>\n",
       "      <th>f2</th>\n",
       "      <th>f3</th>\n",
       "      <th>f4</th>\n",
       "      <th>f5</th>\n",
       "      <th>f6</th>\n",
       "      <th>f7</th>\n",
       "      <th>f8</th>\n",
       "      <th>f9</th>\n",
       "      <th>f10</th>\n",
       "      <th>f11</th>\n",
       "      <th>f12</th>\n",
       "      <th>f13</th>\n",
       "      <th>f14</th>\n",
       "      <th>f15</th>\n",
       "      <th>f16</th>\n",
       "      <th>f17</th>\n",
       "      <th>f18</th>\n",
       "    </tr>\n",
       "  </thead>\n",
       "  <tbody>\n",
       "    <tr>\n",
       "      <th>122</th>\n",
       "      <td>3.003378</td>\n",
       "      <td>74.717529</td>\n",
       "      <td>63.436194</td>\n",
       "      <td>32.653361</td>\n",
       "      <td>49.329411</td>\n",
       "      <td>32.680824</td>\n",
       "      <td>21.965956</td>\n",
       "      <td>25.188193</td>\n",
       "      <td>57.759337</td>\n",
       "      <td>71.441877</td>\n",
       "      <td>47.737011</td>\n",
       "      <td>42.189890</td>\n",
       "      <td>42.280829</td>\n",
       "      <td>41.965806</td>\n",
       "      <td>29.262433</td>\n",
       "      <td>22.824721</td>\n",
       "      <td>36.118647</td>\n",
       "      <td>52.927794</td>\n",
       "      <td>37.595476</td>\n",
       "      <td>50.986607</td>\n",
       "    </tr>\n",
       "    <tr>\n",
       "      <th>123</th>\n",
       "      <td>3.027790</td>\n",
       "      <td>43.540929</td>\n",
       "      <td>29.738550</td>\n",
       "      <td>60.152248</td>\n",
       "      <td>86.423508</td>\n",
       "      <td>58.551514</td>\n",
       "      <td>47.662058</td>\n",
       "      <td>69.515486</td>\n",
       "      <td>43.187731</td>\n",
       "      <td>92.246809</td>\n",
       "      <td>480.382735</td>\n",
       "      <td>60.811332</td>\n",
       "      <td>56.516945</td>\n",
       "      <td>96.055099</td>\n",
       "      <td>63.819369</td>\n",
       "      <td>37.274135</td>\n",
       "      <td>42.120415</td>\n",
       "      <td>51.301305</td>\n",
       "      <td>38.496513</td>\n",
       "      <td>17.314948</td>\n",
       "    </tr>\n",
       "    <tr>\n",
       "      <th>124</th>\n",
       "      <td>3.052203</td>\n",
       "      <td>27.580944</td>\n",
       "      <td>45.219549</td>\n",
       "      <td>51.000089</td>\n",
       "      <td>46.651211</td>\n",
       "      <td>53.431454</td>\n",
       "      <td>42.952967</td>\n",
       "      <td>94.379547</td>\n",
       "      <td>77.956674</td>\n",
       "      <td>188.323928</td>\n",
       "      <td>1473.808110</td>\n",
       "      <td>131.566893</td>\n",
       "      <td>79.479650</td>\n",
       "      <td>57.877095</td>\n",
       "      <td>56.048072</td>\n",
       "      <td>56.854461</td>\n",
       "      <td>101.607981</td>\n",
       "      <td>62.381996</td>\n",
       "      <td>30.470455</td>\n",
       "      <td>24.622740</td>\n",
       "    </tr>\n",
       "    <tr>\n",
       "      <th>125</th>\n",
       "      <td>3.076616</td>\n",
       "      <td>59.878829</td>\n",
       "      <td>129.811301</td>\n",
       "      <td>151.719757</td>\n",
       "      <td>94.605189</td>\n",
       "      <td>87.226177</td>\n",
       "      <td>79.636906</td>\n",
       "      <td>105.119039</td>\n",
       "      <td>151.299098</td>\n",
       "      <td>378.821771</td>\n",
       "      <td>3157.121455</td>\n",
       "      <td>182.388018</td>\n",
       "      <td>111.809458</td>\n",
       "      <td>108.088827</td>\n",
       "      <td>78.122604</td>\n",
       "      <td>95.945163</td>\n",
       "      <td>145.787158</td>\n",
       "      <td>86.665546</td>\n",
       "      <td>81.182774</td>\n",
       "      <td>91.434214</td>\n",
       "    </tr>\n",
       "    <tr>\n",
       "      <th>126</th>\n",
       "      <td>3.101029</td>\n",
       "      <td>47.853742</td>\n",
       "      <td>44.513287</td>\n",
       "      <td>63.157367</td>\n",
       "      <td>66.483886</td>\n",
       "      <td>105.303678</td>\n",
       "      <td>149.961453</td>\n",
       "      <td>196.356333</td>\n",
       "      <td>458.512926</td>\n",
       "      <td>2670.078412</td>\n",
       "      <td>6283.909593</td>\n",
       "      <td>380.093993</td>\n",
       "      <td>264.861463</td>\n",
       "      <td>177.718792</td>\n",
       "      <td>74.647161</td>\n",
       "      <td>79.654001</td>\n",
       "      <td>137.224783</td>\n",
       "      <td>73.821477</td>\n",
       "      <td>100.418147</td>\n",
       "      <td>117.333740</td>\n",
       "    </tr>\n",
       "  </tbody>\n",
       "</table>\n",
       "</div>"
      ],
      "text/plain": [
       "     Time (seconds)         f0          f1          f2         f3          f4  \\\n",
       "122        3.003378  74.717529   63.436194   32.653361  49.329411   32.680824   \n",
       "123        3.027790  43.540929   29.738550   60.152248  86.423508   58.551514   \n",
       "124        3.052203  27.580944   45.219549   51.000089  46.651211   53.431454   \n",
       "125        3.076616  59.878829  129.811301  151.719757  94.605189   87.226177   \n",
       "126        3.101029  47.853742   44.513287   63.157367  66.483886  105.303678   \n",
       "\n",
       "             f5          f6          f7           f8           f9         f10  \\\n",
       "122   21.965956   25.188193   57.759337    71.441877    47.737011   42.189890   \n",
       "123   47.662058   69.515486   43.187731    92.246809   480.382735   60.811332   \n",
       "124   42.952967   94.379547   77.956674   188.323928  1473.808110  131.566893   \n",
       "125   79.636906  105.119039  151.299098   378.821771  3157.121455  182.388018   \n",
       "126  149.961453  196.356333  458.512926  2670.078412  6283.909593  380.093993   \n",
       "\n",
       "            f11         f12        f13        f14         f15        f16  \\\n",
       "122   42.280829   41.965806  29.262433  22.824721   36.118647  52.927794   \n",
       "123   56.516945   96.055099  63.819369  37.274135   42.120415  51.301305   \n",
       "124   79.479650   57.877095  56.048072  56.854461  101.607981  62.381996   \n",
       "125  111.809458  108.088827  78.122604  95.945163  145.787158  86.665546   \n",
       "126  264.861463  177.718792  74.647161  79.654001  137.224783  73.821477   \n",
       "\n",
       "            f17         f18  \n",
       "122   37.595476   50.986607  \n",
       "123   38.496513   17.314948  \n",
       "124   30.470455   24.622740  \n",
       "125   81.182774   91.434214  \n",
       "126  100.418147  117.333740  "
      ]
     },
     "execution_count": 75,
     "metadata": {},
     "output_type": "execute_result"
    }
   ],
   "source": [
    "df_select.head()"
   ]
  },
  {
   "cell_type": "code",
   "execution_count": 78,
   "metadata": {},
   "outputs": [],
   "source": [
    "df_select['label'] = 'action_1'"
   ]
  },
  {
   "cell_type": "code",
   "execution_count": 79,
   "metadata": {},
   "outputs": [
    {
     "data": {
      "text/html": [
       "<div>\n",
       "<style scoped>\n",
       "    .dataframe tbody tr th:only-of-type {\n",
       "        vertical-align: middle;\n",
       "    }\n",
       "\n",
       "    .dataframe tbody tr th {\n",
       "        vertical-align: top;\n",
       "    }\n",
       "\n",
       "    .dataframe thead th {\n",
       "        text-align: right;\n",
       "    }\n",
       "</style>\n",
       "<table border=\"1\" class=\"dataframe\">\n",
       "  <thead>\n",
       "    <tr style=\"text-align: right;\">\n",
       "      <th></th>\n",
       "      <th>Time (seconds)</th>\n",
       "      <th>f0</th>\n",
       "      <th>f1</th>\n",
       "      <th>f2</th>\n",
       "      <th>f3</th>\n",
       "      <th>f4</th>\n",
       "      <th>f5</th>\n",
       "      <th>f6</th>\n",
       "      <th>f7</th>\n",
       "      <th>f8</th>\n",
       "      <th>...</th>\n",
       "      <th>f10</th>\n",
       "      <th>f11</th>\n",
       "      <th>f12</th>\n",
       "      <th>f13</th>\n",
       "      <th>f14</th>\n",
       "      <th>f15</th>\n",
       "      <th>f16</th>\n",
       "      <th>f17</th>\n",
       "      <th>f18</th>\n",
       "      <th>label</th>\n",
       "    </tr>\n",
       "  </thead>\n",
       "  <tbody>\n",
       "    <tr>\n",
       "      <th>122</th>\n",
       "      <td>3.003378</td>\n",
       "      <td>74.717529</td>\n",
       "      <td>63.436194</td>\n",
       "      <td>32.653361</td>\n",
       "      <td>49.329411</td>\n",
       "      <td>32.680824</td>\n",
       "      <td>21.965956</td>\n",
       "      <td>25.188193</td>\n",
       "      <td>57.759337</td>\n",
       "      <td>71.441877</td>\n",
       "      <td>...</td>\n",
       "      <td>42.189890</td>\n",
       "      <td>42.280829</td>\n",
       "      <td>41.965806</td>\n",
       "      <td>29.262433</td>\n",
       "      <td>22.824721</td>\n",
       "      <td>36.118647</td>\n",
       "      <td>52.927794</td>\n",
       "      <td>37.595476</td>\n",
       "      <td>50.986607</td>\n",
       "      <td>action_1</td>\n",
       "    </tr>\n",
       "    <tr>\n",
       "      <th>123</th>\n",
       "      <td>3.027790</td>\n",
       "      <td>43.540929</td>\n",
       "      <td>29.738550</td>\n",
       "      <td>60.152248</td>\n",
       "      <td>86.423508</td>\n",
       "      <td>58.551514</td>\n",
       "      <td>47.662058</td>\n",
       "      <td>69.515486</td>\n",
       "      <td>43.187731</td>\n",
       "      <td>92.246809</td>\n",
       "      <td>...</td>\n",
       "      <td>60.811332</td>\n",
       "      <td>56.516945</td>\n",
       "      <td>96.055099</td>\n",
       "      <td>63.819369</td>\n",
       "      <td>37.274135</td>\n",
       "      <td>42.120415</td>\n",
       "      <td>51.301305</td>\n",
       "      <td>38.496513</td>\n",
       "      <td>17.314948</td>\n",
       "      <td>action_1</td>\n",
       "    </tr>\n",
       "    <tr>\n",
       "      <th>124</th>\n",
       "      <td>3.052203</td>\n",
       "      <td>27.580944</td>\n",
       "      <td>45.219549</td>\n",
       "      <td>51.000089</td>\n",
       "      <td>46.651211</td>\n",
       "      <td>53.431454</td>\n",
       "      <td>42.952967</td>\n",
       "      <td>94.379547</td>\n",
       "      <td>77.956674</td>\n",
       "      <td>188.323928</td>\n",
       "      <td>...</td>\n",
       "      <td>131.566893</td>\n",
       "      <td>79.479650</td>\n",
       "      <td>57.877095</td>\n",
       "      <td>56.048072</td>\n",
       "      <td>56.854461</td>\n",
       "      <td>101.607981</td>\n",
       "      <td>62.381996</td>\n",
       "      <td>30.470455</td>\n",
       "      <td>24.622740</td>\n",
       "      <td>action_1</td>\n",
       "    </tr>\n",
       "    <tr>\n",
       "      <th>125</th>\n",
       "      <td>3.076616</td>\n",
       "      <td>59.878829</td>\n",
       "      <td>129.811301</td>\n",
       "      <td>151.719757</td>\n",
       "      <td>94.605189</td>\n",
       "      <td>87.226177</td>\n",
       "      <td>79.636906</td>\n",
       "      <td>105.119039</td>\n",
       "      <td>151.299098</td>\n",
       "      <td>378.821771</td>\n",
       "      <td>...</td>\n",
       "      <td>182.388018</td>\n",
       "      <td>111.809458</td>\n",
       "      <td>108.088827</td>\n",
       "      <td>78.122604</td>\n",
       "      <td>95.945163</td>\n",
       "      <td>145.787158</td>\n",
       "      <td>86.665546</td>\n",
       "      <td>81.182774</td>\n",
       "      <td>91.434214</td>\n",
       "      <td>action_1</td>\n",
       "    </tr>\n",
       "    <tr>\n",
       "      <th>126</th>\n",
       "      <td>3.101029</td>\n",
       "      <td>47.853742</td>\n",
       "      <td>44.513287</td>\n",
       "      <td>63.157367</td>\n",
       "      <td>66.483886</td>\n",
       "      <td>105.303678</td>\n",
       "      <td>149.961453</td>\n",
       "      <td>196.356333</td>\n",
       "      <td>458.512926</td>\n",
       "      <td>2670.078412</td>\n",
       "      <td>...</td>\n",
       "      <td>380.093993</td>\n",
       "      <td>264.861463</td>\n",
       "      <td>177.718792</td>\n",
       "      <td>74.647161</td>\n",
       "      <td>79.654001</td>\n",
       "      <td>137.224783</td>\n",
       "      <td>73.821477</td>\n",
       "      <td>100.418147</td>\n",
       "      <td>117.333740</td>\n",
       "      <td>action_1</td>\n",
       "    </tr>\n",
       "  </tbody>\n",
       "</table>\n",
       "<p>5 rows × 21 columns</p>\n",
       "</div>"
      ],
      "text/plain": [
       "     Time (seconds)         f0          f1          f2         f3          f4  \\\n",
       "122        3.003378  74.717529   63.436194   32.653361  49.329411   32.680824   \n",
       "123        3.027790  43.540929   29.738550   60.152248  86.423508   58.551514   \n",
       "124        3.052203  27.580944   45.219549   51.000089  46.651211   53.431454   \n",
       "125        3.076616  59.878829  129.811301  151.719757  94.605189   87.226177   \n",
       "126        3.101029  47.853742   44.513287   63.157367  66.483886  105.303678   \n",
       "\n",
       "             f5          f6          f7           f8  ...         f10  \\\n",
       "122   21.965956   25.188193   57.759337    71.441877  ...   42.189890   \n",
       "123   47.662058   69.515486   43.187731    92.246809  ...   60.811332   \n",
       "124   42.952967   94.379547   77.956674   188.323928  ...  131.566893   \n",
       "125   79.636906  105.119039  151.299098   378.821771  ...  182.388018   \n",
       "126  149.961453  196.356333  458.512926  2670.078412  ...  380.093993   \n",
       "\n",
       "            f11         f12        f13        f14         f15        f16  \\\n",
       "122   42.280829   41.965806  29.262433  22.824721   36.118647  52.927794   \n",
       "123   56.516945   96.055099  63.819369  37.274135   42.120415  51.301305   \n",
       "124   79.479650   57.877095  56.048072  56.854461  101.607981  62.381996   \n",
       "125  111.809458  108.088827  78.122604  95.945163  145.787158  86.665546   \n",
       "126  264.861463  177.718792  74.647161  79.654001  137.224783  73.821477   \n",
       "\n",
       "            f17         f18     label  \n",
       "122   37.595476   50.986607  action_1  \n",
       "123   38.496513   17.314948  action_1  \n",
       "124   30.470455   24.622740  action_1  \n",
       "125   81.182774   91.434214  action_1  \n",
       "126  100.418147  117.333740  action_1  \n",
       "\n",
       "[5 rows x 21 columns]"
      ]
     },
     "execution_count": 79,
     "metadata": {},
     "output_type": "execute_result"
    }
   ],
   "source": [
    "df_select.head()"
   ]
  },
  {
   "cell_type": "code",
   "execution_count": 68,
   "metadata": {},
   "outputs": [
    {
     "data": {
      "text/plain": [
       "3.003377535981308"
      ]
     },
     "execution_count": 68,
     "metadata": {},
     "output_type": "execute_result"
    }
   ],
   "source": [
    "df_1[df_1.columns[0]][122]"
   ]
  },
  {
   "cell_type": "code",
   "execution_count": 42,
   "metadata": {},
   "outputs": [],
   "source": [
    "filtered_my_list = [list(filter(lambda time : (time > df_1_label['Time(Seconds)'][i] and time < df_1_label['time_stop'][i]), df_1[df_1.columns[0]] )) for i in range(len(df_1_label))]"
   ]
  },
  {
   "cell_type": "code",
   "execution_count": 35,
   "metadata": {},
   "outputs": [],
   "source": [
    "import numpy as np"
   ]
  },
  {
   "cell_type": "code",
   "execution_count": 55,
   "metadata": {},
   "outputs": [],
   "source": [
    "filtered_my_list_con = np.concatenate(filtered_my_list).tolist()"
   ]
  },
  {
   "cell_type": "code",
   "execution_count": 59,
   "metadata": {},
   "outputs": [
    {
     "data": {
      "text/plain": [
       "list"
      ]
     },
     "execution_count": 59,
     "metadata": {},
     "output_type": "execute_result"
    }
   ],
   "source": [
    "type(filtered_my_list_con)"
   ]
  },
  {
   "cell_type": "code",
   "execution_count": 39,
   "metadata": {},
   "outputs": [
    {
     "data": {
      "text/plain": [
       "(227,)"
      ]
     },
     "execution_count": 39,
     "metadata": {},
     "output_type": "execute_result"
    }
   ],
   "source": [
    "np.shape(filtered_my_list_con)"
   ]
  },
  {
   "cell_type": "code",
   "execution_count": 52,
   "metadata": {},
   "outputs": [],
   "source": [
    "df_1_set_ind = df_1.set_index('Time (seconds)').head()"
   ]
  },
  {
   "cell_type": "code",
   "execution_count": 57,
   "metadata": {},
   "outputs": [
    {
     "data": {
      "text/html": [
       "<div>\n",
       "<style scoped>\n",
       "    .dataframe tbody tr th:only-of-type {\n",
       "        vertical-align: middle;\n",
       "    }\n",
       "\n",
       "    .dataframe tbody tr th {\n",
       "        vertical-align: top;\n",
       "    }\n",
       "\n",
       "    .dataframe thead th {\n",
       "        text-align: right;\n",
       "    }\n",
       "</style>\n",
       "<table border=\"1\" class=\"dataframe\">\n",
       "  <thead>\n",
       "    <tr style=\"text-align: right;\">\n",
       "      <th></th>\n",
       "      <th>f0</th>\n",
       "      <th>f1</th>\n",
       "      <th>f2</th>\n",
       "      <th>f3</th>\n",
       "      <th>f4</th>\n",
       "      <th>f5</th>\n",
       "      <th>f6</th>\n",
       "      <th>f7</th>\n",
       "      <th>f8</th>\n",
       "      <th>f9</th>\n",
       "      <th>f10</th>\n",
       "      <th>f11</th>\n",
       "      <th>f12</th>\n",
       "      <th>f13</th>\n",
       "      <th>f14</th>\n",
       "      <th>f15</th>\n",
       "      <th>f16</th>\n",
       "      <th>f17</th>\n",
       "      <th>f18</th>\n",
       "    </tr>\n",
       "    <tr>\n",
       "      <th>Time (seconds)</th>\n",
       "      <th></th>\n",
       "      <th></th>\n",
       "      <th></th>\n",
       "      <th></th>\n",
       "      <th></th>\n",
       "      <th></th>\n",
       "      <th></th>\n",
       "      <th></th>\n",
       "      <th></th>\n",
       "      <th></th>\n",
       "      <th></th>\n",
       "      <th></th>\n",
       "      <th></th>\n",
       "      <th></th>\n",
       "      <th></th>\n",
       "      <th></th>\n",
       "      <th></th>\n",
       "      <th></th>\n",
       "      <th></th>\n",
       "    </tr>\n",
       "  </thead>\n",
       "  <tbody>\n",
       "    <tr>\n",
       "      <th>0.025001</th>\n",
       "      <td>30.360140</td>\n",
       "      <td>17.579988</td>\n",
       "      <td>14.685777</td>\n",
       "      <td>28.573122</td>\n",
       "      <td>19.925848</td>\n",
       "      <td>20.429080</td>\n",
       "      <td>17.538163</td>\n",
       "      <td>30.388634</td>\n",
       "      <td>26.300705</td>\n",
       "      <td>17.172462</td>\n",
       "      <td>34.153248</td>\n",
       "      <td>14.352835</td>\n",
       "      <td>16.560422</td>\n",
       "      <td>11.238660</td>\n",
       "      <td>22.413350</td>\n",
       "      <td>29.991935</td>\n",
       "      <td>29.765759</td>\n",
       "      <td>10.876992</td>\n",
       "      <td>26.017893</td>\n",
       "    </tr>\n",
       "    <tr>\n",
       "      <th>0.049414</th>\n",
       "      <td>32.726293</td>\n",
       "      <td>25.167735</td>\n",
       "      <td>21.755236</td>\n",
       "      <td>27.477649</td>\n",
       "      <td>31.815267</td>\n",
       "      <td>17.886791</td>\n",
       "      <td>18.497347</td>\n",
       "      <td>18.188835</td>\n",
       "      <td>22.802926</td>\n",
       "      <td>11.344318</td>\n",
       "      <td>14.911160</td>\n",
       "      <td>20.136188</td>\n",
       "      <td>24.356528</td>\n",
       "      <td>25.025817</td>\n",
       "      <td>19.433817</td>\n",
       "      <td>44.720029</td>\n",
       "      <td>60.385098</td>\n",
       "      <td>23.847597</td>\n",
       "      <td>18.236608</td>\n",
       "    </tr>\n",
       "    <tr>\n",
       "      <th>0.073827</th>\n",
       "      <td>21.150129</td>\n",
       "      <td>18.172881</td>\n",
       "      <td>24.757900</td>\n",
       "      <td>24.835175</td>\n",
       "      <td>12.348626</td>\n",
       "      <td>29.714076</td>\n",
       "      <td>22.428855</td>\n",
       "      <td>17.293190</td>\n",
       "      <td>29.111770</td>\n",
       "      <td>21.814129</td>\n",
       "      <td>32.467723</td>\n",
       "      <td>15.393568</td>\n",
       "      <td>8.747901</td>\n",
       "      <td>11.876204</td>\n",
       "      <td>21.231381</td>\n",
       "      <td>17.276851</td>\n",
       "      <td>20.868706</td>\n",
       "      <td>13.251215</td>\n",
       "      <td>21.493155</td>\n",
       "    </tr>\n",
       "    <tr>\n",
       "      <th>0.098240</th>\n",
       "      <td>19.170769</td>\n",
       "      <td>13.792303</td>\n",
       "      <td>28.695106</td>\n",
       "      <td>35.705161</td>\n",
       "      <td>28.165860</td>\n",
       "      <td>29.755727</td>\n",
       "      <td>12.227759</td>\n",
       "      <td>28.826367</td>\n",
       "      <td>48.557443</td>\n",
       "      <td>46.120048</td>\n",
       "      <td>19.728644</td>\n",
       "      <td>28.615416</td>\n",
       "      <td>21.600037</td>\n",
       "      <td>12.880092</td>\n",
       "      <td>24.171701</td>\n",
       "      <td>28.325422</td>\n",
       "      <td>40.029688</td>\n",
       "      <td>41.862798</td>\n",
       "      <td>18.395882</td>\n",
       "    </tr>\n",
       "    <tr>\n",
       "      <th>0.122652</th>\n",
       "      <td>29.377692</td>\n",
       "      <td>27.293459</td>\n",
       "      <td>28.294527</td>\n",
       "      <td>32.612133</td>\n",
       "      <td>18.614161</td>\n",
       "      <td>19.892370</td>\n",
       "      <td>25.341696</td>\n",
       "      <td>20.668108</td>\n",
       "      <td>20.345545</td>\n",
       "      <td>21.952440</td>\n",
       "      <td>52.181182</td>\n",
       "      <td>39.709507</td>\n",
       "      <td>35.294859</td>\n",
       "      <td>22.031326</td>\n",
       "      <td>13.731116</td>\n",
       "      <td>26.086913</td>\n",
       "      <td>26.881990</td>\n",
       "      <td>17.811212</td>\n",
       "      <td>31.782183</td>\n",
       "    </tr>\n",
       "  </tbody>\n",
       "</table>\n",
       "</div>"
      ],
      "text/plain": [
       "                       f0         f1         f2         f3         f4  \\\n",
       "Time (seconds)                                                          \n",
       "0.025001        30.360140  17.579988  14.685777  28.573122  19.925848   \n",
       "0.049414        32.726293  25.167735  21.755236  27.477649  31.815267   \n",
       "0.073827        21.150129  18.172881  24.757900  24.835175  12.348626   \n",
       "0.098240        19.170769  13.792303  28.695106  35.705161  28.165860   \n",
       "0.122652        29.377692  27.293459  28.294527  32.612133  18.614161   \n",
       "\n",
       "                       f5         f6         f7         f8         f9  \\\n",
       "Time (seconds)                                                          \n",
       "0.025001        20.429080  17.538163  30.388634  26.300705  17.172462   \n",
       "0.049414        17.886791  18.497347  18.188835  22.802926  11.344318   \n",
       "0.073827        29.714076  22.428855  17.293190  29.111770  21.814129   \n",
       "0.098240        29.755727  12.227759  28.826367  48.557443  46.120048   \n",
       "0.122652        19.892370  25.341696  20.668108  20.345545  21.952440   \n",
       "\n",
       "                      f10        f11        f12        f13        f14  \\\n",
       "Time (seconds)                                                          \n",
       "0.025001        34.153248  14.352835  16.560422  11.238660  22.413350   \n",
       "0.049414        14.911160  20.136188  24.356528  25.025817  19.433817   \n",
       "0.073827        32.467723  15.393568   8.747901  11.876204  21.231381   \n",
       "0.098240        19.728644  28.615416  21.600037  12.880092  24.171701   \n",
       "0.122652        52.181182  39.709507  35.294859  22.031326  13.731116   \n",
       "\n",
       "                      f15        f16        f17        f18  \n",
       "Time (seconds)                                              \n",
       "0.025001        29.991935  29.765759  10.876992  26.017893  \n",
       "0.049414        44.720029  60.385098  23.847597  18.236608  \n",
       "0.073827        17.276851  20.868706  13.251215  21.493155  \n",
       "0.098240        28.325422  40.029688  41.862798  18.395882  \n",
       "0.122652        26.086913  26.881990  17.811212  31.782183  "
      ]
     },
     "execution_count": 57,
     "metadata": {},
     "output_type": "execute_result"
    }
   ],
   "source": [
    "df_1_set_ind.head()"
   ]
  },
  {
   "cell_type": "code",
   "execution_count": 66,
   "metadata": {},
   "outputs": [
    {
     "ename": "KeyError",
     "evalue": "3.027790460046728",
     "output_type": "error",
     "traceback": [
      "\u001b[1;31m---------------------------------------------------------------------------\u001b[0m",
      "\u001b[1;31mKeyError\u001b[0m                                  Traceback (most recent call last)",
      "\u001b[1;32mE:\\miniconda3_64\\envs\\osim_onn\\lib\\site-packages\\pandas\\core\\indexes\\base.py\u001b[0m in \u001b[0;36mget_loc\u001b[1;34m(self, key, method, tolerance)\u001b[0m\n\u001b[0;32m   2888\u001b[0m             \u001b[1;32mtry\u001b[0m\u001b[1;33m:\u001b[0m\u001b[1;33m\u001b[0m\u001b[0m\n\u001b[1;32m-> 2889\u001b[1;33m                 \u001b[1;32mreturn\u001b[0m \u001b[0mself\u001b[0m\u001b[1;33m.\u001b[0m\u001b[0m_engine\u001b[0m\u001b[1;33m.\u001b[0m\u001b[0mget_loc\u001b[0m\u001b[1;33m(\u001b[0m\u001b[0mcasted_key\u001b[0m\u001b[1;33m)\u001b[0m\u001b[1;33m\u001b[0m\u001b[0m\n\u001b[0m\u001b[0;32m   2890\u001b[0m             \u001b[1;32mexcept\u001b[0m \u001b[0mKeyError\u001b[0m \u001b[1;32mas\u001b[0m \u001b[0merr\u001b[0m\u001b[1;33m:\u001b[0m\u001b[1;33m\u001b[0m\u001b[0m\n",
      "\u001b[1;32mpandas\\_libs\\index.pyx\u001b[0m in \u001b[0;36mpandas._libs.index.IndexEngine.get_loc\u001b[1;34m()\u001b[0m\n",
      "\u001b[1;32mpandas\\_libs\\index.pyx\u001b[0m in \u001b[0;36mpandas._libs.index.IndexEngine.get_loc\u001b[1;34m()\u001b[0m\n",
      "\u001b[1;32mpandas\\_libs\\hashtable_class_helper.pxi\u001b[0m in \u001b[0;36mpandas._libs.hashtable.Float64HashTable.get_item\u001b[1;34m()\u001b[0m\n",
      "\u001b[1;32mpandas\\_libs\\hashtable_class_helper.pxi\u001b[0m in \u001b[0;36mpandas._libs.hashtable.Float64HashTable.get_item\u001b[1;34m()\u001b[0m\n",
      "\u001b[1;31mKeyError\u001b[0m: 3.027790460046728",
      "\nThe above exception was the direct cause of the following exception:\n",
      "\u001b[1;31mKeyError\u001b[0m                                  Traceback (most recent call last)",
      "\u001b[1;32m<ipython-input-66-162e5b49b218>\u001b[0m in \u001b[0;36m<module>\u001b[1;34m\u001b[0m\n\u001b[1;32m----> 1\u001b[1;33m \u001b[0mdf_1_set_ind\u001b[0m\u001b[1;33m.\u001b[0m\u001b[0mloc\u001b[0m\u001b[1;33m[\u001b[0m\u001b[0mfiltered_my_list_con\u001b[0m\u001b[1;33m[\u001b[0m\u001b[1;36m1\u001b[0m\u001b[1;33m]\u001b[0m\u001b[1;33m]\u001b[0m\u001b[1;33m\u001b[0m\u001b[0m\n\u001b[0m",
      "\u001b[1;32mE:\\miniconda3_64\\envs\\osim_onn\\lib\\site-packages\\pandas\\core\\indexing.py\u001b[0m in \u001b[0;36m__getitem__\u001b[1;34m(self, key)\u001b[0m\n\u001b[0;32m    877\u001b[0m \u001b[1;33m\u001b[0m\u001b[0m\n\u001b[0;32m    878\u001b[0m             \u001b[0mmaybe_callable\u001b[0m \u001b[1;33m=\u001b[0m \u001b[0mcom\u001b[0m\u001b[1;33m.\u001b[0m\u001b[0mapply_if_callable\u001b[0m\u001b[1;33m(\u001b[0m\u001b[0mkey\u001b[0m\u001b[1;33m,\u001b[0m \u001b[0mself\u001b[0m\u001b[1;33m.\u001b[0m\u001b[0mobj\u001b[0m\u001b[1;33m)\u001b[0m\u001b[1;33m\u001b[0m\u001b[0m\n\u001b[1;32m--> 879\u001b[1;33m             \u001b[1;32mreturn\u001b[0m \u001b[0mself\u001b[0m\u001b[1;33m.\u001b[0m\u001b[0m_getitem_axis\u001b[0m\u001b[1;33m(\u001b[0m\u001b[0mmaybe_callable\u001b[0m\u001b[1;33m,\u001b[0m \u001b[0maxis\u001b[0m\u001b[1;33m=\u001b[0m\u001b[0maxis\u001b[0m\u001b[1;33m)\u001b[0m\u001b[1;33m\u001b[0m\u001b[0m\n\u001b[0m\u001b[0;32m    880\u001b[0m \u001b[1;33m\u001b[0m\u001b[0m\n\u001b[0;32m    881\u001b[0m     \u001b[1;32mdef\u001b[0m \u001b[0m_is_scalar_access\u001b[0m\u001b[1;33m(\u001b[0m\u001b[0mself\u001b[0m\u001b[1;33m,\u001b[0m \u001b[0mkey\u001b[0m\u001b[1;33m:\u001b[0m \u001b[0mTuple\u001b[0m\u001b[1;33m)\u001b[0m\u001b[1;33m:\u001b[0m\u001b[1;33m\u001b[0m\u001b[0m\n",
      "\u001b[1;32mE:\\miniconda3_64\\envs\\osim_onn\\lib\\site-packages\\pandas\\core\\indexing.py\u001b[0m in \u001b[0;36m_getitem_axis\u001b[1;34m(self, key, axis)\u001b[0m\n\u001b[0;32m   1108\u001b[0m         \u001b[1;31m# fall thru to straight lookup\u001b[0m\u001b[1;33m\u001b[0m\u001b[1;33m\u001b[0m\u001b[0m\n\u001b[0;32m   1109\u001b[0m         \u001b[0mself\u001b[0m\u001b[1;33m.\u001b[0m\u001b[0m_validate_key\u001b[0m\u001b[1;33m(\u001b[0m\u001b[0mkey\u001b[0m\u001b[1;33m,\u001b[0m \u001b[0maxis\u001b[0m\u001b[1;33m)\u001b[0m\u001b[1;33m\u001b[0m\u001b[0m\n\u001b[1;32m-> 1110\u001b[1;33m         \u001b[1;32mreturn\u001b[0m \u001b[0mself\u001b[0m\u001b[1;33m.\u001b[0m\u001b[0m_get_label\u001b[0m\u001b[1;33m(\u001b[0m\u001b[0mkey\u001b[0m\u001b[1;33m,\u001b[0m \u001b[0maxis\u001b[0m\u001b[1;33m=\u001b[0m\u001b[0maxis\u001b[0m\u001b[1;33m)\u001b[0m\u001b[1;33m\u001b[0m\u001b[0m\n\u001b[0m\u001b[0;32m   1111\u001b[0m \u001b[1;33m\u001b[0m\u001b[0m\n\u001b[0;32m   1112\u001b[0m     \u001b[1;32mdef\u001b[0m \u001b[0m_get_slice_axis\u001b[0m\u001b[1;33m(\u001b[0m\u001b[0mself\u001b[0m\u001b[1;33m,\u001b[0m \u001b[0mslice_obj\u001b[0m\u001b[1;33m:\u001b[0m \u001b[0mslice\u001b[0m\u001b[1;33m,\u001b[0m \u001b[0maxis\u001b[0m\u001b[1;33m:\u001b[0m \u001b[0mint\u001b[0m\u001b[1;33m)\u001b[0m\u001b[1;33m:\u001b[0m\u001b[1;33m\u001b[0m\u001b[0m\n",
      "\u001b[1;32mE:\\miniconda3_64\\envs\\osim_onn\\lib\\site-packages\\pandas\\core\\indexing.py\u001b[0m in \u001b[0;36m_get_label\u001b[1;34m(self, label, axis)\u001b[0m\n\u001b[0;32m   1057\u001b[0m     \u001b[1;32mdef\u001b[0m \u001b[0m_get_label\u001b[0m\u001b[1;33m(\u001b[0m\u001b[0mself\u001b[0m\u001b[1;33m,\u001b[0m \u001b[0mlabel\u001b[0m\u001b[1;33m,\u001b[0m \u001b[0maxis\u001b[0m\u001b[1;33m:\u001b[0m \u001b[0mint\u001b[0m\u001b[1;33m)\u001b[0m\u001b[1;33m:\u001b[0m\u001b[1;33m\u001b[0m\u001b[0m\n\u001b[0;32m   1058\u001b[0m         \u001b[1;31m# GH#5667 this will fail if the label is not present in the axis.\u001b[0m\u001b[1;33m\u001b[0m\u001b[1;33m\u001b[0m\u001b[0m\n\u001b[1;32m-> 1059\u001b[1;33m         \u001b[1;32mreturn\u001b[0m \u001b[0mself\u001b[0m\u001b[1;33m.\u001b[0m\u001b[0mobj\u001b[0m\u001b[1;33m.\u001b[0m\u001b[0mxs\u001b[0m\u001b[1;33m(\u001b[0m\u001b[0mlabel\u001b[0m\u001b[1;33m,\u001b[0m \u001b[0maxis\u001b[0m\u001b[1;33m=\u001b[0m\u001b[0maxis\u001b[0m\u001b[1;33m)\u001b[0m\u001b[1;33m\u001b[0m\u001b[0m\n\u001b[0m\u001b[0;32m   1060\u001b[0m \u001b[1;33m\u001b[0m\u001b[0m\n\u001b[0;32m   1061\u001b[0m     \u001b[1;32mdef\u001b[0m \u001b[0m_handle_lowerdim_multi_index_axis0\u001b[0m\u001b[1;33m(\u001b[0m\u001b[0mself\u001b[0m\u001b[1;33m,\u001b[0m \u001b[0mtup\u001b[0m\u001b[1;33m:\u001b[0m \u001b[0mTuple\u001b[0m\u001b[1;33m)\u001b[0m\u001b[1;33m:\u001b[0m\u001b[1;33m\u001b[0m\u001b[0m\n",
      "\u001b[1;32mE:\\miniconda3_64\\envs\\osim_onn\\lib\\site-packages\\pandas\\core\\generic.py\u001b[0m in \u001b[0;36mxs\u001b[1;34m(self, key, axis, level, drop_level)\u001b[0m\n\u001b[0;32m   3480\u001b[0m             \u001b[0mloc\u001b[0m\u001b[1;33m,\u001b[0m \u001b[0mnew_index\u001b[0m \u001b[1;33m=\u001b[0m \u001b[0mself\u001b[0m\u001b[1;33m.\u001b[0m\u001b[0mindex\u001b[0m\u001b[1;33m.\u001b[0m\u001b[0mget_loc_level\u001b[0m\u001b[1;33m(\u001b[0m\u001b[0mkey\u001b[0m\u001b[1;33m,\u001b[0m \u001b[0mdrop_level\u001b[0m\u001b[1;33m=\u001b[0m\u001b[0mdrop_level\u001b[0m\u001b[1;33m)\u001b[0m\u001b[1;33m\u001b[0m\u001b[0m\n\u001b[0;32m   3481\u001b[0m         \u001b[1;32melse\u001b[0m\u001b[1;33m:\u001b[0m\u001b[1;33m\u001b[0m\u001b[0m\n\u001b[1;32m-> 3482\u001b[1;33m             \u001b[0mloc\u001b[0m \u001b[1;33m=\u001b[0m \u001b[0mself\u001b[0m\u001b[1;33m.\u001b[0m\u001b[0mindex\u001b[0m\u001b[1;33m.\u001b[0m\u001b[0mget_loc\u001b[0m\u001b[1;33m(\u001b[0m\u001b[0mkey\u001b[0m\u001b[1;33m)\u001b[0m\u001b[1;33m\u001b[0m\u001b[0m\n\u001b[0m\u001b[0;32m   3483\u001b[0m \u001b[1;33m\u001b[0m\u001b[0m\n\u001b[0;32m   3484\u001b[0m             \u001b[1;32mif\u001b[0m \u001b[0misinstance\u001b[0m\u001b[1;33m(\u001b[0m\u001b[0mloc\u001b[0m\u001b[1;33m,\u001b[0m \u001b[0mnp\u001b[0m\u001b[1;33m.\u001b[0m\u001b[0mndarray\u001b[0m\u001b[1;33m)\u001b[0m\u001b[1;33m:\u001b[0m\u001b[1;33m\u001b[0m\u001b[0m\n",
      "\u001b[1;32mE:\\miniconda3_64\\envs\\osim_onn\\lib\\site-packages\\pandas\\core\\indexes\\numeric.py\u001b[0m in \u001b[0;36mget_loc\u001b[1;34m(self, key, method, tolerance)\u001b[0m\n\u001b[0;32m    422\u001b[0m             \u001b[1;32mreturn\u001b[0m \u001b[0mnan_idxs\u001b[0m\u001b[1;33m\u001b[0m\u001b[0m\n\u001b[0;32m    423\u001b[0m \u001b[1;33m\u001b[0m\u001b[0m\n\u001b[1;32m--> 424\u001b[1;33m         \u001b[1;32mreturn\u001b[0m \u001b[0msuper\u001b[0m\u001b[1;33m(\u001b[0m\u001b[1;33m)\u001b[0m\u001b[1;33m.\u001b[0m\u001b[0mget_loc\u001b[0m\u001b[1;33m(\u001b[0m\u001b[0mkey\u001b[0m\u001b[1;33m,\u001b[0m \u001b[0mmethod\u001b[0m\u001b[1;33m=\u001b[0m\u001b[0mmethod\u001b[0m\u001b[1;33m,\u001b[0m \u001b[0mtolerance\u001b[0m\u001b[1;33m=\u001b[0m\u001b[0mtolerance\u001b[0m\u001b[1;33m)\u001b[0m\u001b[1;33m\u001b[0m\u001b[0m\n\u001b[0m\u001b[0;32m    425\u001b[0m \u001b[1;33m\u001b[0m\u001b[0m\n\u001b[0;32m    426\u001b[0m     \u001b[1;33m@\u001b[0m\u001b[0mcache_readonly\u001b[0m\u001b[1;33m\u001b[0m\u001b[0m\n",
      "\u001b[1;32mE:\\miniconda3_64\\envs\\osim_onn\\lib\\site-packages\\pandas\\core\\indexes\\base.py\u001b[0m in \u001b[0;36mget_loc\u001b[1;34m(self, key, method, tolerance)\u001b[0m\n\u001b[0;32m   2889\u001b[0m                 \u001b[1;32mreturn\u001b[0m \u001b[0mself\u001b[0m\u001b[1;33m.\u001b[0m\u001b[0m_engine\u001b[0m\u001b[1;33m.\u001b[0m\u001b[0mget_loc\u001b[0m\u001b[1;33m(\u001b[0m\u001b[0mcasted_key\u001b[0m\u001b[1;33m)\u001b[0m\u001b[1;33m\u001b[0m\u001b[0m\n\u001b[0;32m   2890\u001b[0m             \u001b[1;32mexcept\u001b[0m \u001b[0mKeyError\u001b[0m \u001b[1;32mas\u001b[0m \u001b[0merr\u001b[0m\u001b[1;33m:\u001b[0m\u001b[1;33m\u001b[0m\u001b[0m\n\u001b[1;32m-> 2891\u001b[1;33m                 \u001b[1;32mraise\u001b[0m \u001b[0mKeyError\u001b[0m\u001b[1;33m(\u001b[0m\u001b[0mkey\u001b[0m\u001b[1;33m)\u001b[0m \u001b[1;32mfrom\u001b[0m \u001b[0merr\u001b[0m\u001b[1;33m\u001b[0m\u001b[0m\n\u001b[0m\u001b[0;32m   2892\u001b[0m \u001b[1;33m\u001b[0m\u001b[0m\n\u001b[0;32m   2893\u001b[0m         \u001b[1;32mif\u001b[0m \u001b[0mtolerance\u001b[0m \u001b[1;32mis\u001b[0m \u001b[1;32mnot\u001b[0m \u001b[1;32mNone\u001b[0m\u001b[1;33m:\u001b[0m\u001b[1;33m\u001b[0m\u001b[0m\n",
      "\u001b[1;31mKeyError\u001b[0m: 3.027790460046728"
     ]
    }
   ],
   "source": [
    "df_1_set_ind.loc[filtered_my_list_con[1]]"
   ]
  },
  {
   "cell_type": "code",
   "execution_count": null,
   "metadata": {},
   "outputs": [],
   "source": []
  }
 ],
 "metadata": {
  "kernelspec": {
   "display_name": "Python 3",
   "language": "python",
   "name": "python3"
  },
  "language_info": {
   "codemirror_mode": {
    "name": "ipython",
    "version": 3
   },
   "file_extension": ".py",
   "mimetype": "text/x-python",
   "name": "python",
   "nbconvert_exporter": "python",
   "pygments_lexer": "ipython3",
   "version": "3.6.7"
  }
 },
 "nbformat": 4,
 "nbformat_minor": 4
}
